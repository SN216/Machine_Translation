{
 "cells": [
  {
   "cell_type": "code",
   "execution_count": 1,
   "id": "e293ef43",
   "metadata": {
    "_cell_guid": "b1076dfc-b9ad-4769-8c92-a6c4dae69d19",
    "_uuid": "8f2839f25d086af736a60e9eeb907d3b93b6e0e5",
    "execution": {
     "iopub.execute_input": "2024-06-06T10:38:39.342092Z",
     "iopub.status.busy": "2024-06-06T10:38:39.341306Z",
     "iopub.status.idle": "2024-06-06T10:39:06.688428Z",
     "shell.execute_reply": "2024-06-06T10:39:06.687424Z"
    },
    "papermill": {
     "duration": 27.356367,
     "end_time": "2024-06-06T10:39:06.690848",
     "exception": false,
     "start_time": "2024-06-06T10:38:39.334481",
     "status": "completed"
    },
    "tags": []
   },
   "outputs": [
    {
     "name": "stdout",
     "output_type": "stream",
     "text": [
      "Requirement already satisfied: tensorflow in /opt/conda/lib/python3.10/site-packages (2.15.0)\r\n",
      "Requirement already satisfied: absl-py>=1.0.0 in /opt/conda/lib/python3.10/site-packages (from tensorflow) (1.4.0)\r\n",
      "Requirement already satisfied: astunparse>=1.6.0 in /opt/conda/lib/python3.10/site-packages (from tensorflow) (1.6.3)\r\n",
      "Requirement already satisfied: flatbuffers>=23.5.26 in /opt/conda/lib/python3.10/site-packages (from tensorflow) (23.5.26)\r\n",
      "Requirement already satisfied: gast!=0.5.0,!=0.5.1,!=0.5.2,>=0.2.1 in /opt/conda/lib/python3.10/site-packages (from tensorflow) (0.5.4)\r\n",
      "Requirement already satisfied: google-pasta>=0.1.1 in /opt/conda/lib/python3.10/site-packages (from tensorflow) (0.2.0)\r\n",
      "Requirement already satisfied: h5py>=2.9.0 in /opt/conda/lib/python3.10/site-packages (from tensorflow) (3.10.0)\r\n",
      "Requirement already satisfied: libclang>=13.0.0 in /opt/conda/lib/python3.10/site-packages (from tensorflow) (16.0.6)\r\n",
      "Requirement already satisfied: ml-dtypes~=0.2.0 in /opt/conda/lib/python3.10/site-packages (from tensorflow) (0.2.0)\r\n",
      "Requirement already satisfied: numpy<2.0.0,>=1.23.5 in /opt/conda/lib/python3.10/site-packages (from tensorflow) (1.26.4)\r\n",
      "Requirement already satisfied: opt-einsum>=2.3.2 in /opt/conda/lib/python3.10/site-packages (from tensorflow) (3.3.0)\r\n",
      "Requirement already satisfied: packaging in /opt/conda/lib/python3.10/site-packages (from tensorflow) (21.3)\r\n",
      "Requirement already satisfied: protobuf!=4.21.0,!=4.21.1,!=4.21.2,!=4.21.3,!=4.21.4,!=4.21.5,<5.0.0dev,>=3.20.3 in /opt/conda/lib/python3.10/site-packages (from tensorflow) (3.20.3)\r\n",
      "Requirement already satisfied: setuptools in /opt/conda/lib/python3.10/site-packages (from tensorflow) (69.0.3)\r\n",
      "Requirement already satisfied: six>=1.12.0 in /opt/conda/lib/python3.10/site-packages (from tensorflow) (1.16.0)\r\n",
      "Requirement already satisfied: termcolor>=1.1.0 in /opt/conda/lib/python3.10/site-packages (from tensorflow) (2.4.0)\r\n",
      "Requirement already satisfied: typing-extensions>=3.6.6 in /opt/conda/lib/python3.10/site-packages (from tensorflow) (4.9.0)\r\n",
      "Requirement already satisfied: wrapt<1.15,>=1.11.0 in /opt/conda/lib/python3.10/site-packages (from tensorflow) (1.14.1)\r\n",
      "Requirement already satisfied: tensorflow-io-gcs-filesystem>=0.23.1 in /opt/conda/lib/python3.10/site-packages (from tensorflow) (0.35.0)\r\n",
      "Requirement already satisfied: grpcio<2.0,>=1.24.3 in /opt/conda/lib/python3.10/site-packages (from tensorflow) (1.51.1)\r\n",
      "Requirement already satisfied: tensorboard<2.16,>=2.15 in /opt/conda/lib/python3.10/site-packages (from tensorflow) (2.15.1)\r\n",
      "Requirement already satisfied: tensorflow-estimator<2.16,>=2.15.0 in /opt/conda/lib/python3.10/site-packages (from tensorflow) (2.15.0)\r\n",
      "Collecting keras<2.16,>=2.15.0 (from tensorflow)\r\n",
      "  Downloading keras-2.15.0-py3-none-any.whl.metadata (2.4 kB)\r\n",
      "Requirement already satisfied: wheel<1.0,>=0.23.0 in /opt/conda/lib/python3.10/site-packages (from astunparse>=1.6.0->tensorflow) (0.42.0)\r\n",
      "Requirement already satisfied: google-auth<3,>=1.6.3 in /opt/conda/lib/python3.10/site-packages (from tensorboard<2.16,>=2.15->tensorflow) (2.26.1)\r\n",
      "Requirement already satisfied: google-auth-oauthlib<2,>=0.5 in /opt/conda/lib/python3.10/site-packages (from tensorboard<2.16,>=2.15->tensorflow) (1.2.0)\r\n",
      "Requirement already satisfied: markdown>=2.6.8 in /opt/conda/lib/python3.10/site-packages (from tensorboard<2.16,>=2.15->tensorflow) (3.5.2)\r\n",
      "Requirement already satisfied: requests<3,>=2.21.0 in /opt/conda/lib/python3.10/site-packages (from tensorboard<2.16,>=2.15->tensorflow) (2.31.0)\r\n",
      "Requirement already satisfied: tensorboard-data-server<0.8.0,>=0.7.0 in /opt/conda/lib/python3.10/site-packages (from tensorboard<2.16,>=2.15->tensorflow) (0.7.2)\r\n",
      "Requirement already satisfied: werkzeug>=1.0.1 in /opt/conda/lib/python3.10/site-packages (from tensorboard<2.16,>=2.15->tensorflow) (3.0.2)\r\n",
      "Requirement already satisfied: pyparsing!=3.0.5,>=2.0.2 in /opt/conda/lib/python3.10/site-packages (from packaging->tensorflow) (3.1.1)\r\n",
      "Requirement already satisfied: cachetools<6.0,>=2.0.0 in /opt/conda/lib/python3.10/site-packages (from google-auth<3,>=1.6.3->tensorboard<2.16,>=2.15->tensorflow) (4.2.4)\r\n",
      "Requirement already satisfied: pyasn1-modules>=0.2.1 in /opt/conda/lib/python3.10/site-packages (from google-auth<3,>=1.6.3->tensorboard<2.16,>=2.15->tensorflow) (0.3.0)\r\n",
      "Requirement already satisfied: rsa<5,>=3.1.4 in /opt/conda/lib/python3.10/site-packages (from google-auth<3,>=1.6.3->tensorboard<2.16,>=2.15->tensorflow) (4.9)\r\n",
      "Requirement already satisfied: requests-oauthlib>=0.7.0 in /opt/conda/lib/python3.10/site-packages (from google-auth-oauthlib<2,>=0.5->tensorboard<2.16,>=2.15->tensorflow) (1.3.1)\r\n",
      "Requirement already satisfied: charset-normalizer<4,>=2 in /opt/conda/lib/python3.10/site-packages (from requests<3,>=2.21.0->tensorboard<2.16,>=2.15->tensorflow) (3.3.2)\r\n",
      "Requirement already satisfied: idna<4,>=2.5 in /opt/conda/lib/python3.10/site-packages (from requests<3,>=2.21.0->tensorboard<2.16,>=2.15->tensorflow) (3.6)\r\n",
      "Requirement already satisfied: urllib3<3,>=1.21.1 in /opt/conda/lib/python3.10/site-packages (from requests<3,>=2.21.0->tensorboard<2.16,>=2.15->tensorflow) (1.26.18)\r\n",
      "Requirement already satisfied: certifi>=2017.4.17 in /opt/conda/lib/python3.10/site-packages (from requests<3,>=2.21.0->tensorboard<2.16,>=2.15->tensorflow) (2024.2.2)\r\n",
      "Requirement already satisfied: MarkupSafe>=2.1.1 in /opt/conda/lib/python3.10/site-packages (from werkzeug>=1.0.1->tensorboard<2.16,>=2.15->tensorflow) (2.1.3)\r\n",
      "Requirement already satisfied: pyasn1<0.6.0,>=0.4.6 in /opt/conda/lib/python3.10/site-packages (from pyasn1-modules>=0.2.1->google-auth<3,>=1.6.3->tensorboard<2.16,>=2.15->tensorflow) (0.5.1)\r\n",
      "Requirement already satisfied: oauthlib>=3.0.0 in /opt/conda/lib/python3.10/site-packages (from requests-oauthlib>=0.7.0->google-auth-oauthlib<2,>=0.5->tensorboard<2.16,>=2.15->tensorflow) (3.2.2)\r\n",
      "Downloading keras-2.15.0-py3-none-any.whl (1.7 MB)\r\n",
      "\u001b[2K   \u001b[90m━━━━━━━━━━━━━━━━━━━━━━━━━━━━━━━━━━━━━━━━\u001b[0m \u001b[32m1.7/1.7 MB\u001b[0m \u001b[31m36.1 MB/s\u001b[0m eta \u001b[36m0:00:00\u001b[0m\r\n",
      "\u001b[?25hInstalling collected packages: keras\r\n",
      "  Attempting uninstall: keras\r\n",
      "    Found existing installation: keras 3.2.1\r\n",
      "    Uninstalling keras-3.2.1:\r\n",
      "      Successfully uninstalled keras-3.2.1\r\n",
      "\u001b[31mERROR: pip's dependency resolver does not currently take into account all the packages that are installed. This behaviour is the source of the following dependency conflicts.\r\n",
      "tensorflow-decision-forests 1.8.1 requires wurlitzer, which is not installed.\u001b[0m\u001b[31m\r\n",
      "\u001b[0mSuccessfully installed keras-2.15.0\r\n"
     ]
    },
    {
     "name": "stderr",
     "output_type": "stream",
     "text": [
      "2024-06-06 10:38:56.612894: E external/local_xla/xla/stream_executor/cuda/cuda_dnn.cc:9261] Unable to register cuDNN factory: Attempting to register factory for plugin cuDNN when one has already been registered\n",
      "2024-06-06 10:38:56.613026: E external/local_xla/xla/stream_executor/cuda/cuda_fft.cc:607] Unable to register cuFFT factory: Attempting to register factory for plugin cuFFT when one has already been registered\n",
      "2024-06-06 10:38:56.725890: E external/local_xla/xla/stream_executor/cuda/cuda_blas.cc:1515] Unable to register cuBLAS factory: Attempting to register factory for plugin cuBLAS when one has already been registered\n"
     ]
    }
   ],
   "source": [
    "!pip install tensorflow\n",
    "import pathlib\n",
    "import random\n",
    "import string\n",
    "import tensorflow.strings as tf_strings\n",
    "import tensorflow.data as tf_data\n",
    "import re\n",
    "from keras.layers import TextVectorization\n",
    "import keras\n",
    "import tensorflow as tf\n",
    "from keras import layers\n",
    "import json"
   ]
  },
  {
   "cell_type": "code",
   "execution_count": 2,
   "id": "f0150ab5",
   "metadata": {
    "execution": {
     "iopub.execute_input": "2024-06-06T10:39:06.704060Z",
     "iopub.status.busy": "2024-06-06T10:39:06.703510Z",
     "iopub.status.idle": "2024-06-06T10:39:07.859484Z",
     "shell.execute_reply": "2024-06-06T10:39:07.858693Z"
    },
    "papermill": {
     "duration": 1.16488,
     "end_time": "2024-06-06T10:39:07.861775",
     "exception": false,
     "start_time": "2024-06-06T10:39:06.696895",
     "status": "completed"
    },
    "tags": []
   },
   "outputs": [
    {
     "name": "stdout",
     "output_type": "stream",
     "text": [
      "Downloading data from http://storage.googleapis.com/download.tensorflow.org/data/spa-eng.zip\n",
      "2638744/2638744 [==============================] - 1s 0us/step\n"
     ]
    }
   ],
   "source": [
    "#importing the data\n",
    "#downloading, saving and extracting data\n",
    "text_file =  keras.utils.get_file(\n",
    "    fname = \"spa-eng.zip\",\n",
    "    origin = \"http://storage.googleapis.com/download.tensorflow.org/data/spa-eng.zip\",\n",
    "    extract = True,\n",
    ")\n",
    "\n",
    "#this line constructs the path to the extracted text file within the downloaded directory\n",
    "text_file = pathlib.Path(text_file).parent / \"spa-eng\" / \"spa.txt\"\n",
    "\n",
    "#splits the content into lines and removes the last empty line (if any)\n",
    "with open(text_file, \"r\") as f:\n",
    "    lines = f.read().split(\"\\n\")[:-1]\n",
    "\n",
    "#a tuple to store spanish and english data\n",
    "text_pairs = []\n",
    "\n",
    "#brings out eng and spanish sentences separated by a tab\n",
    "#adds \"start\" and \"end\" to spanish sentences\n",
    "#appends the text_pairs tuple\n",
    "for line in lines:\n",
    "    eng, spa = line.split(\"\\t\")\n",
    "    spa = \"[start] \" + spa + \" [end]\"\n",
    "    text_pairs.append((eng, spa))"
   ]
  },
  {
   "cell_type": "code",
   "execution_count": 3,
   "id": "f4c3ca05",
   "metadata": {
    "execution": {
     "iopub.execute_input": "2024-06-06T10:39:07.877120Z",
     "iopub.status.busy": "2024-06-06T10:39:07.876792Z",
     "iopub.status.idle": "2024-06-06T10:39:07.990404Z",
     "shell.execute_reply": "2024-06-06T10:39:07.989523Z"
    },
    "papermill": {
     "duration": 0.123595,
     "end_time": "2024-06-06T10:39:07.992417",
     "exception": false,
     "start_time": "2024-06-06T10:39:07.868822",
     "status": "completed"
    },
    "tags": []
   },
   "outputs": [
    {
     "data": {
      "text/plain": [
       "[('As soon as he was left alone, he opened the letter.',\n",
       "  '[start] En cuanto se quedó solo, abrió la carta. [end]'),\n",
       " ('If you want to stay, you can stay.',\n",
       "  '[start] SI quieres, puedes quedarte. [end]'),\n",
       " ('I like your family.', '[start] Me agrada tu familia. [end]'),\n",
       " ('Please leave everything to me.', '[start] Déjame todo a mí. [end]'),\n",
       " ('Tom was a bookkeeper.', '[start] Tom era contable. [end]')]"
      ]
     },
     "execution_count": 3,
     "metadata": {},
     "output_type": "execute_result"
    }
   ],
   "source": [
    "random.shuffle(text_pairs)\n",
    "text_pairs[:5]"
   ]
  },
  {
   "cell_type": "code",
   "execution_count": 4,
   "id": "5fa3bce0",
   "metadata": {
    "execution": {
     "iopub.execute_input": "2024-06-06T10:39:08.008190Z",
     "iopub.status.busy": "2024-06-06T10:39:08.007608Z",
     "iopub.status.idle": "2024-06-06T10:39:08.015997Z",
     "shell.execute_reply": "2024-06-06T10:39:08.015163Z"
    },
    "papermill": {
     "duration": 0.018496,
     "end_time": "2024-06-06T10:39:08.018165",
     "exception": false,
     "start_time": "2024-06-06T10:39:07.999669",
     "status": "completed"
    },
    "tags": []
   },
   "outputs": [
    {
     "name": "stdout",
     "output_type": "stream",
     "text": [
      "118964 total pairs\n",
      "83276 training pairs\n",
      "17844 validation pairs\n",
      "17844 test pairs\n"
     ]
    }
   ],
   "source": [
    "#the number of validation samples by taking 15% of the total number of pairs \n",
    "num_val_samples = int(0.15 * len(text_pairs))\n",
    "num_train_samples = len(text_pairs) - 2 * num_val_samples\n",
    "train_pairs = text_pairs[:num_train_samples]\n",
    "val_pairs = text_pairs[num_train_samples:num_train_samples + num_val_samples]\n",
    "test_pairs = text_pairs[num_train_samples + num_val_samples:]\n",
    "\n",
    "print(f\"{len(text_pairs)} total pairs\")\n",
    "print(f\"{len(train_pairs)} training pairs\")\n",
    "print(f\"{len(val_pairs)} validation pairs\")\n",
    "print(f\"{len(test_pairs)} test pairs\")"
   ]
  },
  {
   "cell_type": "code",
   "execution_count": 5,
   "id": "a6f2bcce",
   "metadata": {
    "execution": {
     "iopub.execute_input": "2024-06-06T10:39:08.033921Z",
     "iopub.status.busy": "2024-06-06T10:39:08.033628Z",
     "iopub.status.idle": "2024-06-06T10:39:08.038623Z",
     "shell.execute_reply": "2024-06-06T10:39:08.037723Z"
    },
    "papermill": {
     "duration": 0.014908,
     "end_time": "2024-06-06T10:39:08.040431",
     "exception": false,
     "start_time": "2024-06-06T10:39:08.025523",
     "status": "completed"
    },
    "tags": []
   },
   "outputs": [],
   "source": [
    "# things that will be removed from the texts\n",
    "strip_chars = string.punctuation + \"¿\"\n",
    "strip_chars = strip_chars.replace(\"[\", \"\")\n",
    "strip_chars = strip_chars.replace(\"]\", \"\")\n",
    "\n",
    "vocab_size = 15000\n",
    "sequence_length = 20\n",
    "batch_size = 64"
   ]
  },
  {
   "cell_type": "code",
   "execution_count": 6,
   "id": "8e646fb4",
   "metadata": {
    "execution": {
     "iopub.execute_input": "2024-06-06T10:39:08.056042Z",
     "iopub.status.busy": "2024-06-06T10:39:08.055736Z",
     "iopub.status.idle": "2024-06-06T10:39:19.187364Z",
     "shell.execute_reply": "2024-06-06T10:39:19.186561Z"
    },
    "papermill": {
     "duration": 11.142315,
     "end_time": "2024-06-06T10:39:19.189732",
     "exception": false,
     "start_time": "2024-06-06T10:39:08.047417",
     "status": "completed"
    },
    "tags": []
   },
   "outputs": [],
   "source": [
    "#it converts input strings to lowercase\n",
    "#it then removes specified characters (defined in 'strip_chars') using regular expression replacement\n",
    "def custom_standardization(input_string):\n",
    "    lowercase = tf_strings.lower(input_string)\n",
    "    return tf_strings.regex_replace(lowercase, f\"[{re.escape(strip_chars)}]\", \"\")\n",
    "\n",
    "# vectorization\n",
    "eng_vectorization = TextVectorization(\n",
    "    max_tokens = vocab_size,\n",
    "    output_mode = \"int\",\n",
    "    output_sequence_length = sequence_length,\n",
    ")\n",
    "\n",
    "spa_vectorization = TextVectorization(\n",
    "    max_tokens = vocab_size,\n",
    "    output_mode = \"int\",\n",
    "    output_sequence_length = sequence_length + 1,\n",
    "    standardize = custom_standardization,\n",
    ")\n",
    "\n",
    "#training sets\n",
    "train_eng_texts = [pair[0] for pair in train_pairs]\n",
    "train_spa_texts = [pair[1] for pair in train_pairs]\n",
    "\n",
    "#this is called on both vectorization layers to adapt them to the training data\n",
    "eng_vectorization.adapt(train_eng_texts)\n",
    "spa_vectorization.adapt(train_spa_texts)\n",
    "\n",
    "#save the vectorization layers\n",
    "eng_vectorization_config = eng_vectorization.get_config()\n",
    "eng_vectorization_config.pop('standardize', None)\n",
    "eng_vocab = eng_vectorization.get_vocabulary()\n",
    "with open('eng_vectorization_config.json', 'w', encoding='utf-8') as f:\n",
    "    json.dump(eng_vectorization_config, f)\n",
    "    \n",
    "with open('eng_vocab.json', 'w', encoding='utf-8') as f:\n",
    "    json.dump(eng_vocab, f)\n",
    "    \n",
    "spa_vectorization_config = spa_vectorization.get_config()\n",
    "spa_vectorization_config.pop('standardize', None)\n",
    "spa_vocab = spa_vectorization.get_vocabulary()\n",
    "with open('spa_vectorization_config.json', 'w', encoding='utf-8') as f:\n",
    "    json.dump(spa_vectorization_config, f)\n",
    "    \n",
    "with open('spa_vocab.json', 'w', encoding='utf-8') as f:\n",
    "    json.dump(spa_vocab, f)\n",
    "    \n",
    "#this part applies the respective text vectorization layers and returns the input to seq2seq\n",
    "def format_dataset(eng, spa):\n",
    "    eng = eng_vectorization(eng)\n",
    "    spa = spa_vectorization(spa)\n",
    "    return (\n",
    "        {\n",
    "            \"encoder_inputs\": eng,\n",
    "            \"decoder_inputs\": spa[:, :-1],\n",
    "        },\n",
    "        spa[:, 1:],\n",
    "    )\n",
    "    \n",
    "def make_dataset(pairs):\n",
    "    eng_texts, spa_texts = zip(*pairs)\n",
    "    eng_texts = list(eng_texts)\n",
    "    spa_texts = list(spa_texts)\n",
    "    dataset = tf_data.Dataset.from_tensor_slices((eng_texts, spa_texts))\n",
    "    dataset = dataset.batch(batch_size)\n",
    "    dataset = dataset.map(format_dataset)\n",
    "    return dataset.cache().shuffle(2048).prefetch(16)\n",
    "\n",
    "train_ds = make_dataset(train_pairs)\n",
    "val_ds = make_dataset(val_pairs)\n",
    "    "
   ]
  },
  {
   "cell_type": "code",
   "execution_count": 7,
   "id": "f36d1852",
   "metadata": {
    "execution": {
     "iopub.execute_input": "2024-06-06T10:39:19.206331Z",
     "iopub.status.busy": "2024-06-06T10:39:19.206009Z",
     "iopub.status.idle": "2024-06-06T10:39:19.857165Z",
     "shell.execute_reply": "2024-06-06T10:39:19.856070Z"
    },
    "papermill": {
     "duration": 0.66143,
     "end_time": "2024-06-06T10:39:19.859272",
     "exception": false,
     "start_time": "2024-06-06T10:39:19.197842",
     "status": "completed"
    },
    "tags": []
   },
   "outputs": [
    {
     "name": "stdout",
     "output_type": "stream",
     "text": [
      "(64, 20)\n",
      "(64, 20)\n"
     ]
    }
   ],
   "source": [
    "# taking only first BATCH of data\n",
    "# the batch size is 64 and the desired sequence length is 20\n",
    "for inputs,targets in train_ds.take(1):\n",
    "    print(inputs[\"encoder_inputs\"].shape)\n",
    "    print(targets.shape)"
   ]
  },
  {
   "cell_type": "code",
   "execution_count": 8,
   "id": "32fb16b2",
   "metadata": {
    "execution": {
     "iopub.execute_input": "2024-06-06T10:39:19.876061Z",
     "iopub.status.busy": "2024-06-06T10:39:19.875725Z",
     "iopub.status.idle": "2024-06-06T10:39:19.905930Z",
     "shell.execute_reply": "2024-06-06T10:39:19.904816Z"
    },
    "papermill": {
     "duration": 0.041026,
     "end_time": "2024-06-06T10:39:19.907934",
     "exception": false,
     "start_time": "2024-06-06T10:39:19.866908",
     "status": "completed"
    },
    "tags": []
   },
   "outputs": [],
   "source": [
    "#defining encoder having layers.Layer that can be used in a keras model\n",
    "class TransformerEncoder(layers.Layer):\n",
    "    #initializer for TransformerEncoder Class\n",
    "    #kwargs is to handle named arguments that is not defined previously\n",
    "    def __init__(self, embed_dim, dense_dim, num_heads, **kwargs):\n",
    "        #embedding dimension, dense layer dimension, number of attention heads i.e the number of parallel attention mechanisms in the multi-head attention layer\n",
    "        super().__init__(**kwargs)\n",
    "        self.embed_dim = embed_dim\n",
    "        self.dense_dim = dense_dim\n",
    "        self.num_heads = num_heads\n",
    "        self.attention = layers.MultiHeadAttention(\n",
    "            num_heads = num_heads, key_dim = embed_dim\n",
    "            #key_dim means dimensionality of query and key vectors\n",
    "        )\n",
    "        #sequence of 2 dense layer. one with relu activation and the other mapping back to embedding dimension\n",
    "        self.dense_proj = keras.Sequential(\n",
    "            [\n",
    "                layers.Dense(dense_dim, activation = \"relu\"),\n",
    "                layers.Dense(embed_dim),\n",
    "                #helps in transforming the data back to the same dimensionality as the input embeddings\n",
    "            ]\n",
    "        )\n",
    "        #normalization layer\n",
    "        self.layernorm_1 = layers.LayerNormalization()\n",
    "        #applied after adding the attention output to the input\n",
    "        self.layernorm_2 = layers.LayerNormalization()\n",
    "        #applied after the dense projection\n",
    "        #layers support masking\n",
    "        self.supports_masking = True\n",
    "        \n",
    "    def call(self, inputs, mask=None):\n",
    "        #input is typically of shape [batch_size, sequence_length, embed_dim]\n",
    "        if mask is not None:\n",
    "            padding_mask = tf.cast(mask[:, None, :], dtype = tf.int32)\n",
    "        else:\n",
    "            padding_mask = None\n",
    "            \n",
    "        attention_output = self.attention(\n",
    "            query = inputs,\n",
    "            value = inputs,\n",
    "            key = inputs,\n",
    "            attention_mask = padding_mask,\n",
    "        )\n",
    "        proj_input = self.layernorm_1(inputs + attention_output)\n",
    "        #inputs+attention_output forms residual connection\n",
    "        proj_output = self.dense_proj(proj_input)\n",
    "        #residual connection, also known as a skip connection, is used in neural network architectures to address the problem of vanishing gradients\n",
    "        return self.layernorm_2(proj_input + proj_output)\n",
    "        #adds the result of the dense projection to the input of the projection (which has already gone through the first layer normalization)\n",
    "    \n",
    "    def get_config(self):\n",
    "        config = super().get_config()\n",
    "        config.update({\n",
    "            \"embed_dim\": self.embed_dim,\n",
    "            \"dense_dim\": self.dense_dim,\n",
    "            \"num_heads\": self.num_heads,\n",
    "        })\n",
    "        return config\n",
    "\n",
    "# Creating a Positional Embedding\n",
    "class PositionalEmbedding(layers.Layer):\n",
    "    #taking sequence_length, vocab_size and embed_dim as parameters and kwargs\n",
    "    def __init__(self, sequence_length, vocab_size, embed_dim, **kwargs):\n",
    "        super().__init__(**kwargs)\n",
    "        #defining token embedding\n",
    "        self.token_embeddings = layers.Embedding(\n",
    "            input_dim = vocab_size, output_dim = embed_dim\n",
    "        )\n",
    "        #defining position embedding\n",
    "        self.position_embeddings = layers.Embedding(\n",
    "            input_dim = sequence_length, output_dim = embed_dim\n",
    "        )\n",
    "        #assigning values\n",
    "        self.sequence_length = sequence_length\n",
    "        self.vocab_size = vocab_size\n",
    "        self.embed_dim = embed_dim\n",
    "        \n",
    "    def call(self, inputs):\n",
    "        #length means sequence length\n",
    "        length = tf.shape(inputs)[-1]\n",
    "        #creates a tensor of positions starting from 0 to (length-1) with step size of 1\n",
    "        positions = tf.range(start = 0, limit = length, delta = 1)\n",
    "        #applying tokenization on inputs and positional embedding on positions\n",
    "        embedded_tokens = self.token_embeddings(inputs)\n",
    "        embedded_positions = self.position_embeddings(positions)\n",
    "        # adds the token and position embeddings together, integrating both types of information into a single tensor\n",
    "        return embedded_tokens + embedded_positions\n",
    "    \n",
    "    #masking is done to ignore padding tokens in the sequence\n",
    "    def compute_mask(self, inputs, mask=None):\n",
    "        if mask is not None:\n",
    "            return tf.not_equal(inputs, 0)\n",
    "        else:\n",
    "            return None\n",
    "        \n",
    "    #this is essential for saving and loading models that include custom layers, ensuring that these layers maintain their configuration across different sessions\n",
    "    #it retrieves the configuration dictionary of the parent class, which includes basic settings and attributes handled by the parent class\n",
    "    def get_config(self):\n",
    "        config = super().get_config()\n",
    "        config.update({\n",
    "            \"vocab_size\": self.vocab_size,\n",
    "            \"sequence_length\": self.sequence_length,\n",
    "            \"embed_dim\": self.embed_dim,\n",
    "        })\n",
    "        return config\n",
    "    \n",
    "# Creating a Decoder\n",
    "class TransformerDecoder(layers.Layer):\n",
    "    #defining parameters: embedding dimension, latent dimension, number of attention heads\n",
    "    def __init__(self, embed_dim, latent_dim, num_heads, **kwargs):\n",
    "        super().__init__(**kwargs)\n",
    "        self.embed_dim = embed_dim\n",
    "        self.latent_dim = latent_dim\n",
    "        self.num_heads = num_heads\n",
    "        #he first multi-head attention layer, which typically attends to the decoder’s previous outputs\n",
    "        self.attention_1 = layers.MultiHeadAttention(\n",
    "            num_heads = num_heads, key_dim = embed_dim\n",
    "        )\n",
    "        #he first multi-head attention layer, which typically attends to the encoder's outputs\n",
    "        self.attention_2 = layers.MultiHeadAttention(\n",
    "            num_heads = num_heads, key_dim = embed_dim\n",
    "        )\n",
    "        #sequential model containing 2 dense layers\n",
    "        self.dense_proj = keras.Sequential(\n",
    "            [\n",
    "                #first dense layer containing relu activation\n",
    "                layers.Dense(latent_dim, activation = \"relu\"),\n",
    "                #second dense layer projects back to embed_dim to maintain the dimension\n",
    "                layers.Dense(embed_dim),\n",
    "            ]\n",
    "        )\n",
    "        #three normalization layers for attention layer 1, attention layer 2 and the dense layer\n",
    "        self.layernorm_1 = layers.LayerNormalization()\n",
    "        self.layernorm_2 = layers.LayerNormalization()\n",
    "        self.layernorm_3 = layers.LayerNormalization()\n",
    "        #this layer supports masking, which is useful for handling variable sequence lengths and padding tokens\n",
    "        self.supports_masking = True\n",
    "        \n",
    "    def call(self, inputs, encoder_outputs, mask=None):\n",
    "        casual_mask = self.get_causal_attention_mask(inputs)\n",
    "        if mask is not None:\n",
    "            padding_mask = tf.cast(mask[:, None, :], dtype = tf.int32)\n",
    "            padding_mask = tf.minimum(padding_mask, casual_mask)\n",
    "        else:\n",
    "            padding_mask = None\n",
    "            \n",
    "        attention_output_1 = self.attention_1(\n",
    "            query = inputs,\n",
    "            value = inputs,\n",
    "            key = inputs,\n",
    "            attention_mask = casual_mask,\n",
    "        )\n",
    "        out_1 = self.layernorm_1(inputs + attention_output_1)\n",
    "        \n",
    "        attention_output_2 = self.attention_2(\n",
    "            query = out_1,\n",
    "            value = encoder_outputs,\n",
    "            key = encoder_outputs,\n",
    "            attention_mask = padding_mask,\n",
    "        )\n",
    "        \n",
    "        out_2 = self.layernorm_2(out_1 + attention_output_2)\n",
    "        proj_output = self.dense_proj(out_2)\n",
    "        \n",
    "        return self.layernorm_3(out_2 + proj_output)\n",
    "    \n",
    "    #generates a causal (look-ahead) attention mask for the input sequences in a Transformer decoder\n",
    "    def get_causal_attention_mask(self, inputs):\n",
    "        input_shape = tf.shape(inputs)\n",
    "        batch_size, sequence_length = input_shape[0], input_shape[1]\n",
    "        #creates a column vector with shape [sequence_length, 1] where each row is the sequence index.\n",
    "        i = tf.range(sequence_length)[:, None]\n",
    "        #creates a row vector with shape [sequence_length] where each element is the sequence index\n",
    "        j = tf.range(sequence_length)\n",
    "        mask = tf.cast(i >= j, tf.int32)\n",
    "        mask = tf.reshape(mask,(1, input_shape[1], input_shape[1]))\n",
    "        mult = tf.concat(\n",
    "            [\n",
    "                tf.expand_dims(batch_size, -1),\n",
    "                tf.convert_to_tensor([1, 1]),\n",
    "            ],\n",
    "            axis = 0,\n",
    "        )\n",
    "        return tf.tile(mask, mult)\n",
    "    \n",
    "    def get_config(self):\n",
    "        config = super().get_config()\n",
    "        config.update({\n",
    "            \"embed_dim\": self.embed_dim,\n",
    "            \"latent_dim\": self.latent_dim,\n",
    "            \"num_heads\": self.num_heads,\n",
    "        })\n",
    "        return config"
   ]
  },
  {
   "cell_type": "code",
   "execution_count": 9,
   "id": "fd4d3b6d",
   "metadata": {
    "execution": {
     "iopub.execute_input": "2024-06-06T10:39:19.923477Z",
     "iopub.status.busy": "2024-06-06T10:39:19.923176Z",
     "iopub.status.idle": "2024-06-06T10:39:21.009644Z",
     "shell.execute_reply": "2024-06-06T10:39:21.008788Z"
    },
    "papermill": {
     "duration": 1.096795,
     "end_time": "2024-06-06T10:39:21.012166",
     "exception": false,
     "start_time": "2024-06-06T10:39:19.915371",
     "status": "completed"
    },
    "tags": []
   },
   "outputs": [],
   "source": [
    "# define emmbedding dimensions, latent dimensions, and number of heads\n",
    "embed_dim = 256\n",
    "latent_dim = 2048\n",
    "num_heads = 8\n",
    "\n",
    "#Encoder\n",
    "encoder_inputs = keras.Input(shape = (None,), dtype = \"int64\", name = \"encoder_inputs\")\n",
    "\n",
    "x = PositionalEmbedding(sequence_length, vocab_size, embed_dim)(encoder_inputs)\n",
    "\n",
    "encoder_outputs = TransformerEncoder(embed_dim, latent_dim, num_heads)(x)\n",
    "\n",
    "encoder = keras.Model(encoder_inputs, encoder_outputs, name = \"encoder\")\n",
    "\n",
    "#Decoder\n",
    "decoder_inputs = keras.Input(shape = (None,), dtype = \"int64\", name = \"decoder_inputs\")\n",
    "encoder_seq_inputs = keras.Input(shape = (None, embed_dim), name = \"encoder_seq_inputs\")\n",
    "\n",
    "x = PositionalEmbedding(sequence_length, vocab_size, embed_dim)(decoder_inputs)\n",
    "\n",
    "x = TransformerDecoder(embed_dim, latent_dim, num_heads)(x, encoder_seq_inputs)\n",
    "\n",
    "x = layers.Dropout(0.5)(x)\n",
    "\n",
    "decoder_outputs = layers.Dense(vocab_size, activation = \"softmax\")(x)\n",
    "\n",
    "decoder = keras.Model([decoder_inputs, encoder_seq_inputs], decoder_outputs, name = \"decoder\")\n",
    "\n",
    "# Define the final model\n",
    "decoder_outputs = decoder([decoder_inputs, encoder_outputs])\n",
    "\n",
    "transformer = keras.Model(\n",
    "    [encoder_inputs, decoder_inputs], decoder_outputs, name = \"transformer\"\n",
    ")\n"
   ]
  },
  {
   "cell_type": "code",
   "execution_count": 10,
   "id": "d97096bd",
   "metadata": {
    "execution": {
     "iopub.execute_input": "2024-06-06T10:39:21.028184Z",
     "iopub.status.busy": "2024-06-06T10:39:21.027844Z",
     "iopub.status.idle": "2024-06-06T10:48:37.360848Z",
     "shell.execute_reply": "2024-06-06T10:48:37.359767Z"
    },
    "papermill": {
     "duration": 557.081295,
     "end_time": "2024-06-06T10:48:38.100765",
     "exception": false,
     "start_time": "2024-06-06T10:39:21.019470",
     "status": "completed"
    },
    "tags": []
   },
   "outputs": [
    {
     "name": "stdout",
     "output_type": "stream",
     "text": [
      "Model: \"transformer\"\n",
      "__________________________________________________________________________________________________\n",
      " Layer (type)                Output Shape                 Param #   Connected to                  \n",
      "==================================================================================================\n",
      " encoder_inputs (InputLayer  [(None, None)]               0         []                            \n",
      " )                                                                                                \n",
      "                                                                                                  \n",
      " positional_embedding (Posi  (None, None, 256)            3845120   ['encoder_inputs[0][0]']      \n",
      " tionalEmbedding)                                                                                 \n",
      "                                                                                                  \n",
      " decoder_inputs (InputLayer  [(None, None)]               0         []                            \n",
      " )                                                                                                \n",
      "                                                                                                  \n",
      " transformer_encoder (Trans  (None, None, 256)            3155456   ['positional_embedding[0][0]']\n",
      " formerEncoder)                                                                                   \n",
      "                                                                                                  \n",
      " decoder (Functional)        (None, None, 15000)          1295964   ['decoder_inputs[0][0]',      \n",
      "                                                          0          'transformer_encoder[0][0]'] \n",
      "                                                                                                  \n",
      "==================================================================================================\n",
      "Total params: 19960216 (76.14 MB)\n",
      "Trainable params: 19960216 (76.14 MB)\n",
      "Non-trainable params: 0 (0.00 Byte)\n",
      "__________________________________________________________________________________________________\n",
      "Epoch 1/7\n"
     ]
    },
    {
     "name": "stderr",
     "output_type": "stream",
     "text": [
      "WARNING: All log messages before absl::InitializeLog() is called are written to STDERR\n",
      "I0000 00:00:1717670366.291558      73 device_compiler.h:186] Compiled cluster using XLA!  This line is logged at most once for the lifetime of the process.\n"
     ]
    },
    {
     "name": "stdout",
     "output_type": "stream",
     "text": [
      "1302/1302 [==============================] - 92s 65ms/step - loss: 1.7382 - accuracy: 0.7470 - val_loss: 1.1615 - val_accuracy: 0.8158\n",
      "Epoch 2/7\n",
      "1302/1302 [==============================] - 77s 59ms/step - loss: 1.0626 - accuracy: 0.8318 - val_loss: 0.8537 - val_accuracy: 0.8579\n",
      "Epoch 3/7\n",
      "1302/1302 [==============================] - 77s 59ms/step - loss: 0.8575 - accuracy: 0.8581 - val_loss: 0.7680 - val_accuracy: 0.8683\n",
      "Epoch 4/7\n",
      "1302/1302 [==============================] - 77s 59ms/step - loss: 0.7591 - accuracy: 0.8711 - val_loss: 0.7355 - val_accuracy: 0.8751\n",
      "Epoch 5/7\n",
      "1302/1302 [==============================] - 77s 59ms/step - loss: 0.6971 - accuracy: 0.8799 - val_loss: 0.6987 - val_accuracy: 0.8793\n",
      "Epoch 6/7\n",
      "1302/1302 [==============================] - 77s 59ms/step - loss: 0.6535 - accuracy: 0.8864 - val_loss: 0.6832 - val_accuracy: 0.8832\n",
      "Epoch 7/7\n",
      "1302/1302 [==============================] - 77s 59ms/step - loss: 0.6209 - accuracy: 0.8914 - val_loss: 0.7121 - val_accuracy: 0.8803\n"
     ]
    },
    {
     "data": {
      "text/plain": [
       "<keras.src.callbacks.History at 0x7fa2081091b0>"
      ]
     },
     "execution_count": 10,
     "metadata": {},
     "output_type": "execute_result"
    }
   ],
   "source": [
    "epochs = 7\n",
    "\n",
    "transformer.summary()\n",
    "\n",
    "transformer.compile(\n",
    "    \"rmsprop\", loss = \"sparse_categorical_crossentropy\", metrics = [\"accuracy\"]\n",
    ")\n",
    "\n",
    "transformer.fit(train_ds, epochs = epochs, validation_data = val_ds)"
   ]
  },
  {
   "cell_type": "code",
   "execution_count": 11,
   "id": "61b1e572",
   "metadata": {
    "execution": {
     "iopub.execute_input": "2024-06-06T10:48:39.638545Z",
     "iopub.status.busy": "2024-06-06T10:48:39.638173Z",
     "iopub.status.idle": "2024-06-06T10:48:45.367391Z",
     "shell.execute_reply": "2024-06-06T10:48:45.366542Z"
    },
    "papermill": {
     "duration": 6.520913,
     "end_time": "2024-06-06T10:48:45.369616",
     "exception": false,
     "start_time": "2024-06-06T10:48:38.848703",
     "status": "completed"
    },
    "tags": []
   },
   "outputs": [],
   "source": [
    "transformer.save(\"transformer_model\")"
   ]
  },
  {
   "cell_type": "code",
   "execution_count": 12,
   "id": "2c0af602",
   "metadata": {
    "execution": {
     "iopub.execute_input": "2024-06-06T10:48:46.892577Z",
     "iopub.status.busy": "2024-06-06T10:48:46.892222Z",
     "iopub.status.idle": "2024-06-06T10:48:49.494490Z",
     "shell.execute_reply": "2024-06-06T10:48:49.493297Z"
    },
    "papermill": {
     "duration": 3.390466,
     "end_time": "2024-06-06T10:48:49.496684",
     "exception": false,
     "start_time": "2024-06-06T10:48:46.106218",
     "status": "completed"
    },
    "tags": []
   },
   "outputs": [
    {
     "name": "stdout",
     "output_type": "stream",
     "text": [
      "input: tom is absolutely terrified\n",
      "translated: [start] tom es absolutamente absolutamente [end]\n",
      "\n",
      "input: could you tell me something about yourself\n",
      "translated: [start] podrías decirme algo [end]\n",
      "\n",
      "input: tom has decided to have the operation\n",
      "translated: [start] tom ha decidido a la operación [end]\n",
      "\n",
      "input: i saw him sawing a tree\n",
      "translated: [start] le vi una [UNK] [end]\n",
      "\n",
      "input: i will teach you to program but not today\n",
      "translated: [start] yo te enseñaré a pasar hoy pero hoy [end]\n",
      "\n"
     ]
    }
   ],
   "source": [
    "spa_vocab = spa_vectorization.get_vocabulary()\n",
    "spa_index_lookup = dict(zip(range(len(spa_vocab)), spa_vocab))\n",
    "max_decoded_sentence_length = sequence_length\n",
    "\n",
    "def decode_sentence(input_sentence):\n",
    "    tokenized_input_sentence = eng_vectorization([input_sentence])\n",
    "    decoded_sentence = \"[start]\"\n",
    "    for i in range(max_decoded_sentence_length):\n",
    "        tokenized_target_sentence = spa_vectorization([decoded_sentence])[:, :-1]\n",
    "        predictions = transformer([tokenized_input_sentence, tokenized_target_sentence])\n",
    "        sampled_token_index = tf.argmax(predictions[0, i, :]).numpy().item(0)\n",
    "        sampled_token = spa_index_lookup[sampled_token_index]\n",
    "        decoded_sentence += \" \" + sampled_token\n",
    "        if sampled_token == \"[end]\":\n",
    "            break\n",
    "    return decoded_sentence\n",
    "\n",
    "test_eng_texts = [pair[0] for pair in test_pairs]\n",
    "for _ in range(5):\n",
    "    input_sentence = random.choice(test_eng_texts)\n",
    "    input_sentence = input_sentence.lower()\n",
    "    input_sentence = input_sentence.translate(str.maketrans('', '', strip_chars))\n",
    "    translated = decode_sentence(input_sentence)\n",
    "    print(f\"input: {input_sentence}\")\n",
    "    print(f\"translated: {translated}\")\n",
    "    print()"
   ]
  }
 ],
 "metadata": {
  "kaggle": {
   "accelerator": "gpu",
   "dataSources": [],
   "dockerImageVersionId": 30698,
   "isGpuEnabled": true,
   "isInternetEnabled": true,
   "language": "python",
   "sourceType": "notebook"
  },
  "kernelspec": {
   "display_name": "Python 3",
   "language": "python",
   "name": "python3"
  },
  "language_info": {
   "codemirror_mode": {
    "name": "ipython",
    "version": 3
   },
   "file_extension": ".py",
   "mimetype": "text/x-python",
   "name": "python",
   "nbconvert_exporter": "python",
   "pygments_lexer": "ipython3",
   "version": "3.10.13"
  },
  "papermill": {
   "default_parameters": {},
   "duration": 616.490316,
   "end_time": "2024-06-06T10:48:53.117777",
   "environment_variables": {},
   "exception": null,
   "input_path": "__notebook__.ipynb",
   "output_path": "__notebook__.ipynb",
   "parameters": {},
   "start_time": "2024-06-06T10:38:36.627461",
   "version": "2.5.0"
  }
 },
 "nbformat": 4,
 "nbformat_minor": 5
}
